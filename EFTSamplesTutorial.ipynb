{
 "cells": [
  {
   "cell_type": "markdown",
   "metadata": {},
   "source": [
    "# Guide to EFT samples for VVV analysis\n",
    "\n",
    "Jonas Rembser, 2020-06-04"
   ]
  },
  {
   "cell_type": "markdown",
   "metadata": {},
   "source": [
    "The 1 million inclusice WWW and 1 million di-lepton filtered WWZ events are ready in the UCSD environment, in **MiniAOD** and **NanoAODv7** formats:\n",
    "\n",
    "```\n",
    "/hadoop/cms/store/user/rembserj/samples/WWW_dim8_20200605_inclusive_RunIIAutumn18/\n",
    "/hadoop/cms/store/user/rembserj/samples/WWZ_dim8_20200605_double_lepton_RunIIAutumn18/\n",
    "```\n",
    "\n",
    "The LHE files are also there, if you quickly want to check the LHE header.\n",
    "\n",
    "You can find more information on how they were generated here:\n",
    "https://github.com/guitargeek/vvv-eft-sample-production\n",
    "\n",
    "This presentation explains all differences with respect to the normal NanoAOD samples that are relevant for analysis.\n",
    "\n",
    "Even if this code here is in python, these aspects are also relevant if the analysis is done in C++."
   ]
  },
  {
   "cell_type": "markdown",
   "metadata": {},
   "source": [
    "### Loading sample"
   ]
  },
  {
   "cell_type": "markdown",
   "metadata": {},
   "source": [
    "You need access to the event tree and an integral cross section (as well as luminosity). I take the cross section from the VVV analysis note here."
   ]
  },
  {
   "cell_type": "code",
   "execution_count": 14,
   "metadata": {},
   "outputs": [],
   "source": [
    "import uproot\n",
    "import numpy as np\n",
    "import pandas as pd\n",
    "import matplotlib.pyplot as plt"
   ]
  },
  {
   "cell_type": "code",
   "execution_count": 15,
   "metadata": {},
   "outputs": [],
   "source": [
    "# xsec = 216. # fb for WWW\n",
    "xsec = 165.1 # fb for WWZ\n",
    "lumi = 137. # fb^-1"
   ]
  },
  {
   "cell_type": "code",
   "execution_count": 16,
   "metadata": {},
   "outputs": [],
   "source": [
    "events = uproot.open(\"../wwz/nano/file-001.root\")[\"Events\"]"
   ]
  },
  {
   "cell_type": "markdown",
   "metadata": {},
   "source": [
    "### Branches that are different from central production"
   ]
  },
  {
   "cell_type": "markdown",
   "metadata": {},
   "source": [
    "There are three branches (and their associated n-branches) which did not filled in the production, even though they should:\n",
    "\n",
    "```\n",
    "LHEPdfWeight\n",
    "LHEReweightingWeight\n",
    "LHEScaleWeight\n",
    "```\n",
    "The reweighting weight is of course very important for us, so it should not miss."
   ]
  },
  {
   "cell_type": "markdown",
   "metadata": {},
   "source": [
    "The problem is a differently formated LHE header with a newer madgraph version (a problem discussed in the hypernews). Since the responsible event data producer also produces other branches, I din't want to risk changing it. Instead, a new producer dumps the same weights under different names:\n",
    "\n",
    "```\n",
    "LHEWeight_PDF4LHC15_nnlo_30_pdfas\n",
    "LHEWeight_mg_reweighting\n",
    "LHEWeight_Central_scale_variation\n",
    "```\n",
    "In addition, there is `LHEWeight_NNPDF31_nnlo_hessian_pdfas` as an alternative set of PDF weights, which is preffered if `LHEWeight_PDF4LHC15_nnlo_30_pdfas` is missing. We have both now."
   ]
  },
  {
   "cell_type": "markdown",
   "metadata": {},
   "source": [
    "### Getting information on the reweighting"
   ]
  },
  {
   "cell_type": "markdown",
   "metadata": {},
   "source": [
    "The branch with the reweighting weights is a column of vectors:"
   ]
  },
  {
   "cell_type": "code",
   "execution_count": 17,
   "metadata": {},
   "outputs": [
    {
     "data": {
      "text/plain": [
       "<JaggedArray [[0.0005953098 4.019456 1.0070806 ... 0.040005047 1.0 4.005295] [0.99833417 0.9996206 0.9982077 ... 0.9985442 1.0 1.0032052] [0.9836525 0.9647092 0.9718889 ... 0.9865552 1.0 1.0209315] ... [0.00035074688 4.0727124 1.0245882 ... 0.038369663 1.0 4.0235357] [0.0005632601 3.960794 0.9874946 ... 0.041541163 1.0 3.9858048] [3.2048057e-08 3.9998012 0.9999338 ... 0.04000533 1.0 3.9999337]] at 0x7f67b5467100>"
      ]
     },
     "execution_count": 17,
     "metadata": {},
     "output_type": "execute_result"
    }
   ],
   "source": [
    "events.array(\"LHEWeight_mg_reweighting\")"
   ]
  },
  {
   "cell_type": "markdown",
   "metadata": {},
   "source": [
    "It has the exact same number of entries per event, each corresponding to a reweighting point. The values of the operators at the different points are encoded in the branch name:"
   ]
  },
  {
   "cell_type": "code",
   "execution_count": 18,
   "metadata": {},
   "outputs": [
    {
     "data": {
      "text/plain": [
       "b'mg_reweighting (w_var / w_nominal);id,text;EFT_SM,set param_card anoinputs 12 0.0 # orig: 5e-12\\n;EFT_FT0_m10,set param_card anoinputs 12 -1e-11 # orig: 5e-12\\n;EFT_FT0_m5,set param_card anoinputs 12 -5e-12 # orig: 5e-12\\n;EFT_FT0_m1,set param_card anoinputs 12 -1e-12 # orig: 5e-12\\n;EFT_FT0_1,set param_card anoinputs 12 1e-12 # orig: 5e-12\\n;EFT_FT0_5,;EFT_FT0_10,set param_card anoinputs 12 1e-11 # orig: 5e-12\\n'"
      ]
     },
     "execution_count": 18,
     "metadata": {},
     "output_type": "execute_result"
    }
   ],
   "source": [
    "events[\"LHEWeight_mg_reweighting\"].title"
   ]
  },
  {
   "cell_type": "markdown",
   "metadata": {},
   "source": [
    "To make it a bit more human-readable:"
   ]
  },
  {
   "cell_type": "code",
   "execution_count": 19,
   "metadata": {},
   "outputs": [],
   "source": [
    "def get_df_mg_reweighting_info(events):\n",
    "    import io\n",
    "    csv_str = events[\"LHEWeight_mg_reweighting\"].title.decode(\"utf-8\")\n",
    "    return pd.read_csv(io.StringIO(csv_str), lineterminator=';', skiprows=1)"
   ]
  },
  {
   "cell_type": "code",
   "execution_count": 20,
   "metadata": {},
   "outputs": [
    {
     "data": {
      "text/html": [
       "<div>\n",
       "<style scoped>\n",
       "    .dataframe tbody tr th:only-of-type {\n",
       "        vertical-align: middle;\n",
       "    }\n",
       "\n",
       "    .dataframe tbody tr th {\n",
       "        vertical-align: top;\n",
       "    }\n",
       "\n",
       "    .dataframe thead th {\n",
       "        text-align: right;\n",
       "    }\n",
       "</style>\n",
       "<table border=\"1\" class=\"dataframe\">\n",
       "  <thead>\n",
       "    <tr style=\"text-align: right;\">\n",
       "      <th></th>\n",
       "      <th>id</th>\n",
       "      <th>text</th>\n",
       "    </tr>\n",
       "  </thead>\n",
       "  <tbody>\n",
       "    <tr>\n",
       "      <th>0</th>\n",
       "      <td>EFT_SM</td>\n",
       "      <td>set param_card anoinputs 12 0.0 # orig: 5e-12\\n</td>\n",
       "    </tr>\n",
       "    <tr>\n",
       "      <th>1</th>\n",
       "      <td>EFT_FT0_m10</td>\n",
       "      <td>set param_card anoinputs 12 -1e-11 # orig: 5e-...</td>\n",
       "    </tr>\n",
       "    <tr>\n",
       "      <th>2</th>\n",
       "      <td>EFT_FT0_m5</td>\n",
       "      <td>set param_card anoinputs 12 -5e-12 # orig: 5e-...</td>\n",
       "    </tr>\n",
       "    <tr>\n",
       "      <th>3</th>\n",
       "      <td>EFT_FT0_m1</td>\n",
       "      <td>set param_card anoinputs 12 -1e-12 # orig: 5e-...</td>\n",
       "    </tr>\n",
       "    <tr>\n",
       "      <th>4</th>\n",
       "      <td>EFT_FT0_1</td>\n",
       "      <td>set param_card anoinputs 12 1e-12 # orig: 5e-12\\n</td>\n",
       "    </tr>\n",
       "    <tr>\n",
       "      <th>5</th>\n",
       "      <td>EFT_FT0_5</td>\n",
       "      <td>NaN</td>\n",
       "    </tr>\n",
       "    <tr>\n",
       "      <th>6</th>\n",
       "      <td>EFT_FT0_10</td>\n",
       "      <td>set param_card anoinputs 12 1e-11 # orig: 5e-12\\n</td>\n",
       "    </tr>\n",
       "  </tbody>\n",
       "</table>\n",
       "</div>"
      ],
      "text/plain": [
       "            id                                               text\n",
       "0       EFT_SM    set param_card anoinputs 12 0.0 # orig: 5e-12\\n\n",
       "1  EFT_FT0_m10  set param_card anoinputs 12 -1e-11 # orig: 5e-...\n",
       "2   EFT_FT0_m5  set param_card anoinputs 12 -5e-12 # orig: 5e-...\n",
       "3   EFT_FT0_m1  set param_card anoinputs 12 -1e-12 # orig: 5e-...\n",
       "4    EFT_FT0_1  set param_card anoinputs 12 1e-12 # orig: 5e-12\\n\n",
       "5    EFT_FT0_5                                                NaN\n",
       "6   EFT_FT0_10  set param_card anoinputs 12 1e-11 # orig: 5e-12\\n"
      ]
     },
     "execution_count": 20,
     "metadata": {},
     "output_type": "execute_result"
    }
   ],
   "source": [
    "get_df_mg_reweighting_info(events)"
   ]
  },
  {
   "cell_type": "markdown",
   "metadata": {},
   "source": [
    "You see that there are no commands for `EFT_FT0_5`, because $\\text{F}_\\text{T0} = 5~\\text{TeV}^{-4}$ it is the central value in the generation."
   ]
  },
  {
   "cell_type": "markdown",
   "metadata": {},
   "source": [
    "### Using the reweighting"
   ]
  },
  {
   "cell_type": "markdown",
   "metadata": {},
   "source": [
    "For better compression, NanoAOD saves the relative reweighting weights, so to get the actual weights one needs to multiply them with the `genWeight` of the event.\n",
    "\n",
    "You also need to be careful with the normalization: since the `genWeight` is computed for the central values of the EFT operators, which is not the standard model, the normalization has to be the sum of the gen-weights multiplied with the SM weights per event.\n",
    "\n",
    "This is how it could be done in python, further multiplying the normalized weights with the luminosity times cross section reference value:"
   ]
  },
  {
   "cell_type": "code",
   "execution_count": 21,
   "metadata": {},
   "outputs": [],
   "source": [
    "def get_df_mg_reweighting(events, standard_model=None):\n",
    "    gen_weight = events.array(\"genWeight\")\n",
    "    \n",
    "    df_info = get_df_mg_reweighting_info(events)\n",
    "    mg_reweighting = gen_weight * events.array(\"LHEWeight_mg_reweighting\")\n",
    "    df = pd.DataFrame(mg_reweighting.flatten().reshape((len(mg_reweighting), len(mg_reweighting[0]))))\n",
    "    df.columns = df_info[\"id\"].values\n",
    "    \n",
    "    if standard_model is None:\n",
    "        norm = np.sum(gen_weight)\n",
    "    else:\n",
    "        norm = df[standard_model].sum()\n",
    "    \n",
    "    return df * xsec * lumi / norm"
   ]
  },
  {
   "cell_type": "code",
   "execution_count": 22,
   "metadata": {},
   "outputs": [],
   "source": [
    "df_weights = get_df_mg_reweighting(events, standard_model=\"EFT_SM\")"
   ]
  },
  {
   "cell_type": "code",
   "execution_count": 23,
   "metadata": {},
   "outputs": [
    {
     "data": {
      "text/html": [
       "<div>\n",
       "<style scoped>\n",
       "    .dataframe tbody tr th:only-of-type {\n",
       "        vertical-align: middle;\n",
       "    }\n",
       "\n",
       "    .dataframe tbody tr th {\n",
       "        vertical-align: top;\n",
       "    }\n",
       "\n",
       "    .dataframe thead th {\n",
       "        text-align: right;\n",
       "    }\n",
       "</style>\n",
       "<table border=\"1\" class=\"dataframe\">\n",
       "  <thead>\n",
       "    <tr style=\"text-align: right;\">\n",
       "      <th></th>\n",
       "      <th>EFT_SM</th>\n",
       "      <th>EFT_FT0_m10</th>\n",
       "      <th>EFT_FT0_m5</th>\n",
       "      <th>EFT_FT0_m1</th>\n",
       "      <th>EFT_FT0_1</th>\n",
       "      <th>EFT_FT0_5</th>\n",
       "      <th>EFT_FT0_10</th>\n",
       "    </tr>\n",
       "  </thead>\n",
       "  <tbody>\n",
       "    <tr>\n",
       "      <th>0</th>\n",
       "      <td>0.000229</td>\n",
       "      <td>1.546990</td>\n",
       "      <td>0.387601</td>\n",
       "      <td>0.015942</td>\n",
       "      <td>0.015397</td>\n",
       "      <td>0.384876</td>\n",
       "      <td>1.541540</td>\n",
       "    </tr>\n",
       "    <tr>\n",
       "      <th>1</th>\n",
       "      <td>0.388116</td>\n",
       "      <td>0.388616</td>\n",
       "      <td>0.388066</td>\n",
       "      <td>0.388058</td>\n",
       "      <td>0.388197</td>\n",
       "      <td>0.388763</td>\n",
       "      <td>0.390009</td>\n",
       "    </tr>\n",
       "    <tr>\n",
       "      <th>2</th>\n",
       "      <td>0.378584</td>\n",
       "      <td>0.371293</td>\n",
       "      <td>0.374056</td>\n",
       "      <td>0.377537</td>\n",
       "      <td>0.379701</td>\n",
       "      <td>0.384876</td>\n",
       "      <td>0.392932</td>\n",
       "    </tr>\n",
       "    <tr>\n",
       "      <th>3</th>\n",
       "      <td>0.015851</td>\n",
       "      <td>1.394285</td>\n",
       "      <td>0.352320</td>\n",
       "      <td>0.026705</td>\n",
       "      <td>0.033216</td>\n",
       "      <td>0.384876</td>\n",
       "      <td>1.459395</td>\n",
       "    </tr>\n",
       "    <tr>\n",
       "      <th>4</th>\n",
       "      <td>0.385776</td>\n",
       "      <td>0.380285</td>\n",
       "      <td>0.382950</td>\n",
       "      <td>0.385198</td>\n",
       "      <td>0.386360</td>\n",
       "      <td>0.388763</td>\n",
       "      <td>0.391912</td>\n",
       "    </tr>\n",
       "  </tbody>\n",
       "</table>\n",
       "</div>"
      ],
      "text/plain": [
       "     EFT_SM  EFT_FT0_m10  EFT_FT0_m5  EFT_FT0_m1  EFT_FT0_1  EFT_FT0_5  \\\n",
       "0  0.000229     1.546990    0.387601    0.015942   0.015397   0.384876   \n",
       "1  0.388116     0.388616    0.388066    0.388058   0.388197   0.388763   \n",
       "2  0.378584     0.371293    0.374056    0.377537   0.379701   0.384876   \n",
       "3  0.015851     1.394285    0.352320    0.026705   0.033216   0.384876   \n",
       "4  0.385776     0.380285    0.382950    0.385198   0.386360   0.388763   \n",
       "\n",
       "   EFT_FT0_10  \n",
       "0    1.541540  \n",
       "1    0.390009  \n",
       "2    0.392932  \n",
       "3    1.459395  \n",
       "4    0.391912  "
      ]
     },
     "execution_count": 23,
     "metadata": {},
     "output_type": "execute_result"
    }
   ],
   "source": [
    "df_weights.head()"
   ]
  },
  {
   "cell_type": "markdown",
   "metadata": {},
   "source": [
    "### Validating parabolic shape of weights"
   ]
  },
  {
   "cell_type": "markdown",
   "metadata": {},
   "source": [
    "A quick check if the weights are really parabolic:"
   ]
  },
  {
   "cell_type": "code",
   "execution_count": 24,
   "metadata": {},
   "outputs": [
    {
     "data": {
      "image/png": "[encoded data removed]",
      "text/plain": [
       "<Figure size 432x288 with 1 Axes>"
      ]
     },
     "metadata": {
      "needs_background": "light"
     },
     "output_type": "display_data"
    }
   ],
   "source": [
    "w = events.array(\"LHEWeight_mg_reweighting\")[80]\n",
    "plt.scatter([0, -10, -5, -1, 1, 5, 10], w)\n",
    "plt.ylabel(\"relative weight\")\n",
    "plt.xlabel(\"$F_{T0}$ $[$TeV$^{-4}]$\")\n",
    "plt.show()"
   ]
  },
  {
   "cell_type": "markdown",
   "metadata": {},
   "source": [
    "### Validate enhancement in tail of $s_T$ distribution"
   ]
  },
  {
   "cell_type": "markdown",
   "metadata": {},
   "source": [
    "This example plots a simple $s_T$ distribution without any event selection, just as a samity check."
   ]
  },
  {
   "cell_type": "code",
   "execution_count": 25,
   "metadata": {},
   "outputs": [],
   "source": [
    "def get_st_variable(events):\n",
    "    return events.array(\"Electron_pt\").sum() + \\\n",
    "           events.array(\"Jet_pt\").sum() + \\\n",
    "           events.array(\"MET_pt\")"
   ]
  },
  {
   "cell_type": "code",
   "execution_count": 26,
   "metadata": {},
   "outputs": [],
   "source": [
    "df = pd.DataFrame(dict(sT=get_st_variable(events)))"
   ]
  },
  {
   "cell_type": "code",
   "execution_count": 27,
   "metadata": {},
   "outputs": [],
   "source": [
    "def to_string(x):\n",
    "    return str(x).replace(\"-\", \"m\").replace(\".\", \"p\")\n",
    "\n",
    "def to_number(label):\n",
    "    return int(label.replace(\"m\", \"-\").replace(\"p\", \".\"))"
   ]
  },
  {
   "cell_type": "code",
   "execution_count": 28,
   "metadata": {},
   "outputs": [],
   "source": [
    "def decode_parameters(label, strip_zero_parameters=True):\n",
    "    \"\"\"Decode a label back to a divionary of operator values.\n",
    "    \"\"\"\n",
    "    l = label.split(\"_\")[1:]\n",
    "    if l == ['SM']:\n",
    "        return {}\n",
    "    \n",
    "    l = [a + \"_\" + b for a, b in zip(l[::2], l[1::2])]\n",
    "\n",
    "    parameters = {k.upper() : to_number(v) for k, v in map(lambda x: x.split(\"_\"), l)}\n",
    "    \n",
    "    if strip_zero_parameters:\n",
    "        return {name : x for name, x in parameters.items() if x != 0}\n",
    "    \n",
    "    return parameters"
   ]
  },
  {
   "cell_type": "code",
   "execution_count": 29,
   "metadata": {},
   "outputs": [
    {
     "data": {
      "image/png": "[encoded data removed]",
      "text/plain": [
       "<Figure size 432x288 with 1 Axes>"
      ]
     },
     "metadata": {
      "needs_background": "light"
     },
     "output_type": "display_data"
    }
   ],
   "source": [
    "bins = np.linspace(0, 15000, 100)\n",
    "for weight_label in df_weights.columns:\n",
    "    parameters = decode_parameters(weight_label)\n",
    "    label = f\"FT$_0$/$\\Lambda^4$ = {list(parameters.values())[0]}\" if len(parameters) > 0 else \"SM\"\n",
    "    plt.hist(df[\"sT\"], bins=bins, weights=df_weights[weight_label], histtype=\"step\", label=label)\n",
    "plt.legend(loc=\"lower left\", ncol=2)\n",
    "plt.gca().set_yscale('log')\n",
    "plt.ylabel(\"a.u.\")\n",
    "plt.title(\"Validation of dim. 8 weights in VVV\")\n",
    "plt.xlabel(r\"$S_T$ [GeV] (sum of lepton, jet and MET pt without any selection)\")\n",
    "plt.show()"
   ]
  },
  {
   "cell_type": "markdown",
   "metadata": {},
   "source": [
    "### Validating double-lepton filter"
   ]
  },
  {
   "cell_type": "code",
   "execution_count": 30,
   "metadata": {},
   "outputs": [],
   "source": [
    "import geeksw.analysis.genpart as genpart"
   ]
  },
  {
   "cell_type": "code",
   "execution_count": 33,
   "metadata": {},
   "outputs": [],
   "source": [
    "def count_leptons_from_weak_boson_decays(events):\n",
    "    df = events.pandas.df([b\"GenPart_genPartIdxMother\", b\"GenPart_pdgId\"], flatten=True)\n",
    "    df[\"GenPart_pdgIdMother\"] = genpart.get_pdgIdMother(df)\n",
    "\n",
    "    df = df.query(\"abs(GenPart_pdgIdMother) == 24 or GenPart_pdgIdMother == 23\")\n",
    "    df = df.reset_index()\n",
    "    \n",
    "    # The group-by operation is just a quick and dirty way to do it in this validation.\n",
    "    # Of course it's very inefficient because it doesn't assume that the rows are already grouped by event.\n",
    "    # That's why we just look at 1000 events, which is 1 % of the file.\n",
    "    df_counts = df.query(\"entry < 1000\").groupby(\"entry\")[\"GenPart_pdgId\"].agg(\n",
    "        n_ele=lambda x: np.sum(np.abs(x) == 11),\n",
    "        n_mu=lambda x: np.sum(np.abs(x) == 13),\n",
    "        n_tau=lambda x: np.sum(np.abs(x) == 15),\n",
    "    )\n",
    "\n",
    "    return df_counts"
   ]
  },
  {
   "cell_type": "code",
   "execution_count": 35,
   "metadata": {},
   "outputs": [
    {
     "data": {
      "image/png": "[encoded data removed]",
      "text/plain": [
       "<Figure size 432x288 with 1 Axes>"
      ]
     },
     "metadata": {
      "needs_background": "light"
     },
     "output_type": "display_data"
    }
   ],
   "source": [
    "df_counts = count_leptons_from_weak_boson_decays(events)\n",
    "plt.hist(df_counts.sum(axis=1), bins=np.linspace(0, 6, 7))\n",
    "plt.xlabel(\"Number of W or Z daughter leptons\")\n",
    "plt.ylabel(\"Events\")\n",
    "plt.show()"
   ]
  }
 ],
 "metadata": {
  "kernelspec": {
   "display_name": "Python 3",
   "language": "python",
   "name": "python3"
  },
  "language_info": {
   "codemirror_mode": {
    "name": "ipython",
    "version": 3
   },
   "file_extension": ".py",
   "mimetype": "text/x-python",
   "name": "python",
   "nbconvert_exporter": "python",
   "pygments_lexer": "ipython3",
   "version": "3.8.3"
  }
 },
 "nbformat": 4,
 "nbformat_minor": 2
}
