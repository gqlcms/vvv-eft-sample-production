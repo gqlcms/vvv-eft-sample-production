{
 "cells": [
  {
   "cell_type": "markdown",
   "metadata": {},
   "source": [
    "# Guide to EFT samples for VVV analysis\n",
    "\n",
    "Jonas Rembser, 2020-06-04"
   ]
  },
  {
   "cell_type": "markdown",
   "metadata": {},
   "source": [
    "The 1 million inclusice WWW events are ready in the UCSD environment, in **MiniAOD** and **NanoAODv7** formats:\n",
    "\n",
    "```\n",
    "/hadoop/cms/store/user/rembserj/samples/WWW_dim8_20200605_RunIIAutumn18/\n",
    "```\n",
    "\n",
    "The LHE files are also there, if you quickly want to check the LHE header.\n",
    "\n",
    "You can find more information on how they were generated here:\n",
    "https://github.com/guitargeek/vvv-eft-sample-production\n",
    "\n",
    "This presentation explains all differences with respect to the normal NanoAOD samples that are relevant for analysis.\n",
    "\n",
    "Even if this code here is in python, these aspects are also relevant if the analysis is done in C++."
   ]
  },
  {
   "cell_type": "markdown",
   "metadata": {},
   "source": [
    "### Loading WWW sample"
   ]
  },
  {
   "cell_type": "markdown",
   "metadata": {},
   "source": [
    "You need access to the event tree and an integral cross section (as well as luminosity). I take the cross section from the VVV analysis note here."
   ]
  },
  {
   "cell_type": "code",
   "execution_count": 1,
   "metadata": {},
   "outputs": [],
   "source": [
    "import uproot\n",
    "import numpy as np\n",
    "import pandas as pd\n",
    "import matplotlib.pyplot as plt"
   ]
  },
  {
   "cell_type": "code",
   "execution_count": 2,
   "metadata": {},
   "outputs": [],
   "source": [
    "xsec = 216. # fb\n",
    "lumi = 137. # fb^-1"
   ]
  },
  {
   "cell_type": "code",
   "execution_count": 3,
   "metadata": {},
   "outputs": [],
   "source": [
    "events = uproot.open(\"file-001.root\")[\"Events\"]"
   ]
  },
  {
   "cell_type": "markdown",
   "metadata": {},
   "source": [
    "### Branches that are different from central production"
   ]
  },
  {
   "cell_type": "markdown",
   "metadata": {},
   "source": [
    "There are three branches (and their associated n-branches) which did not filled in the production, even though they should:\n",
    "\n",
    "```\n",
    "LHEPdfWeight\n",
    "LHEReweightingWeight\n",
    "LHEScaleWeight\n",
    "```\n",
    "The reweighting weight is of course very important for us, so it should not miss."
   ]
  },
  {
   "cell_type": "markdown",
   "metadata": {},
   "source": [
    "The problem is a differently formated LHE header with a newer madgraph version (a problem discussed in the hypernews). Since the responsible event data producer also produces other branches, I din't want to risk changing it. Instead, a new producer dumps the same weights under different names:\n",
    "\n",
    "```\n",
    "LHEWeight_PDF4LHC15_nnlo_30_pdfas\n",
    "LHEWeight_mg_reweighting\n",
    "LHEWeight_Central_scale_variation\n",
    "```\n",
    "In addition, there is `LHEWeight_NNPDF31_nnlo_hessian_pdfas` as an alternative set of PDF weights, which is preffered if `LHEWeight_PDF4LHC15_nnlo_30_pdfas` is missing. We have both now."
   ]
  },
  {
   "cell_type": "markdown",
   "metadata": {},
   "source": [
    "### Getting information on the reweighting"
   ]
  },
  {
   "cell_type": "markdown",
   "metadata": {},
   "source": [
    "The branch with the reweighting weights is a column of vectors:"
   ]
  },
  {
   "cell_type": "code",
   "execution_count": 4,
   "metadata": {},
   "outputs": [
    {
     "data": {
      "text/plain": [
       "<JaggedArray [[0.9977697 0.9935247 0.99561125 ... 0.99821 1.0 1.0023022] [0.9975562 0.9930904 0.995253 ... 0.9980337 1.0 1.0025843] [0.02249509 3.3419595 0.8031482 ... 0.07734343 1.0 3.735663] ... [8.148224e-07 3.9979985 0.9993336 ... 0.040054094 1.0 3.9993312] [9.082777e-06 3.9882433 0.99609023 ... 0.040321503 1.0 3.996063] [2.128016e-06 3.9964497 0.9988187 ... 0.040096544 1.0 3.9988124]] at 0x7fcd786d2710>"
      ]
     },
     "execution_count": 4,
     "metadata": {},
     "output_type": "execute_result"
    }
   ],
   "source": [
    "events.array(\"LHEWeight_mg_reweighting\")"
   ]
  },
  {
   "cell_type": "markdown",
   "metadata": {},
   "source": [
    "It has the exact same number of entries per event, each corresponding to a reweighting point. The values of the operators at the different points are encoded in the branch name:"
   ]
  },
  {
   "cell_type": "code",
   "execution_count": 5,
   "metadata": {},
   "outputs": [
    {
     "data": {
      "text/plain": [
       "b'mg_reweighting (w_var / w_nominal);id,text;EFT_SM,set param_card anoinputs 12 0.0 # orig: 5e-12\\n;EFT_FT0_m10,set param_card anoinputs 12 -1e-11 # orig: 5e-12\\n;EFT_FT0_m5,set param_card anoinputs 12 -5e-12 # orig: 5e-12\\n;EFT_FT0_m1,set param_card anoinputs 12 -1e-12 # orig: 5e-12\\n;EFT_FT0_1,set param_card anoinputs 12 1e-12 # orig: 5e-12\\n;EFT_FT0_5,;EFT_FT0_10,set param_card anoinputs 12 1e-11 # orig: 5e-12\\n'"
      ]
     },
     "execution_count": 5,
     "metadata": {},
     "output_type": "execute_result"
    }
   ],
   "source": [
    "events[\"LHEWeight_mg_reweighting\"].title"
   ]
  },
  {
   "cell_type": "markdown",
   "metadata": {},
   "source": [
    "To make it a bit more human-readable:"
   ]
  },
  {
   "cell_type": "code",
   "execution_count": 6,
   "metadata": {},
   "outputs": [],
   "source": [
    "def get_df_mg_reweighting_info(events):\n",
    "    import io\n",
    "    csv_str = events[\"LHEWeight_mg_reweighting\"].title.decode(\"utf-8\")\n",
    "    return pd.read_csv(io.StringIO(csv_str), lineterminator=';', skiprows=1)"
   ]
  },
  {
   "cell_type": "code",
   "execution_count": 7,
   "metadata": {},
   "outputs": [
    {
     "data": {
      "text/html": [
       "<div>\n",
       "<style scoped>\n",
       "    .dataframe tbody tr th:only-of-type {\n",
       "        vertical-align: middle;\n",
       "    }\n",
       "\n",
       "    .dataframe tbody tr th {\n",
       "        vertical-align: top;\n",
       "    }\n",
       "\n",
       "    .dataframe thead th {\n",
       "        text-align: right;\n",
       "    }\n",
       "</style>\n",
       "<table border=\"1\" class=\"dataframe\">\n",
       "  <thead>\n",
       "    <tr style=\"text-align: right;\">\n",
       "      <th></th>\n",
       "      <th>id</th>\n",
       "      <th>text</th>\n",
       "    </tr>\n",
       "  </thead>\n",
       "  <tbody>\n",
       "    <tr>\n",
       "      <th>0</th>\n",
       "      <td>EFT_SM</td>\n",
       "      <td>set param_card anoinputs 12 0.0 # orig: 5e-12\\n</td>\n",
       "    </tr>\n",
       "    <tr>\n",
       "      <th>1</th>\n",
       "      <td>EFT_FT0_m10</td>\n",
       "      <td>set param_card anoinputs 12 -1e-11 # orig: 5e-...</td>\n",
       "    </tr>\n",
       "    <tr>\n",
       "      <th>2</th>\n",
       "      <td>EFT_FT0_m5</td>\n",
       "      <td>set param_card anoinputs 12 -5e-12 # orig: 5e-...</td>\n",
       "    </tr>\n",
       "    <tr>\n",
       "      <th>3</th>\n",
       "      <td>EFT_FT0_m1</td>\n",
       "      <td>set param_card anoinputs 12 -1e-12 # orig: 5e-...</td>\n",
       "    </tr>\n",
       "    <tr>\n",
       "      <th>4</th>\n",
       "      <td>EFT_FT0_1</td>\n",
       "      <td>set param_card anoinputs 12 1e-12 # orig: 5e-12\\n</td>\n",
       "    </tr>\n",
       "    <tr>\n",
       "      <th>5</th>\n",
       "      <td>EFT_FT0_5</td>\n",
       "      <td>NaN</td>\n",
       "    </tr>\n",
       "    <tr>\n",
       "      <th>6</th>\n",
       "      <td>EFT_FT0_10</td>\n",
       "      <td>set param_card anoinputs 12 1e-11 # orig: 5e-12\\n</td>\n",
       "    </tr>\n",
       "  </tbody>\n",
       "</table>\n",
       "</div>"
      ],
      "text/plain": [
       "            id                                               text\n",
       "0       EFT_SM    set param_card anoinputs 12 0.0 # orig: 5e-12\\n\n",
       "1  EFT_FT0_m10  set param_card anoinputs 12 -1e-11 # orig: 5e-...\n",
       "2   EFT_FT0_m5  set param_card anoinputs 12 -5e-12 # orig: 5e-...\n",
       "3   EFT_FT0_m1  set param_card anoinputs 12 -1e-12 # orig: 5e-...\n",
       "4    EFT_FT0_1  set param_card anoinputs 12 1e-12 # orig: 5e-12\\n\n",
       "5    EFT_FT0_5                                                NaN\n",
       "6   EFT_FT0_10  set param_card anoinputs 12 1e-11 # orig: 5e-12\\n"
      ]
     },
     "execution_count": 7,
     "metadata": {},
     "output_type": "execute_result"
    }
   ],
   "source": [
    "get_df_mg_reweighting_info(events)"
   ]
  },
  {
   "cell_type": "markdown",
   "metadata": {},
   "source": [
    "You see that there are no commands for `EFT_FT0_5`, because $\\text{F}_\\text{T0} = 5~\\text{TeV}^{-4}$ it is the central value in the generation."
   ]
  },
  {
   "cell_type": "markdown",
   "metadata": {},
   "source": [
    "### Using the reweighting"
   ]
  },
  {
   "cell_type": "markdown",
   "metadata": {},
   "source": [
    "For better compression, NanoAOD saves the relative reweighting weights, so to get the actual weights one needs to multiply them with the `genWeight` of the event.\n",
    "\n",
    "You also need to be careful with the normalization: since the `genWeight` is computed for the central values of the EFT operators, which is not the standard model, the normalization has to be the sum of the gen-weights multiplied with the SM weights per event.\n",
    "\n",
    "This is how it could be done in python, further multiplying the normalized weights with the luminosity times cross section reference value:"
   ]
  },
  {
   "cell_type": "code",
   "execution_count": 8,
   "metadata": {},
   "outputs": [],
   "source": [
    "def get_df_mg_reweighting(events, standard_model=None):\n",
    "    gen_weight = events.array(\"genWeight\")\n",
    "    \n",
    "    df_info = get_df_mg_reweighting_info(events)\n",
    "    mg_reweighting = gen_weight * events.array(\"LHEWeight_mg_reweighting\")\n",
    "    df = pd.DataFrame(mg_reweighting.flatten().reshape((len(mg_reweighting), len(mg_reweighting[0]))))\n",
    "    df.columns = df_info[\"id\"].values\n",
    "    \n",
    "    if standard_model is None:\n",
    "        norm = np.sum(gen_weight)\n",
    "    else:\n",
    "        norm = df[standard_model].sum()\n",
    "    \n",
    "    return df * xsec * lumi / norm"
   ]
  },
  {
   "cell_type": "code",
   "execution_count": 9,
   "metadata": {},
   "outputs": [],
   "source": [
    "df_weights = get_df_mg_reweighting(events, standard_model=\"EFT_SM\")"
   ]
  },
  {
   "cell_type": "code",
   "execution_count": 10,
   "metadata": {},
   "outputs": [
    {
     "data": {
      "text/html": [
       "<div>\n",
       "<style scoped>\n",
       "    .dataframe tbody tr th:only-of-type {\n",
       "        vertical-align: middle;\n",
       "    }\n",
       "\n",
       "    .dataframe tbody tr th {\n",
       "        vertical-align: top;\n",
       "    }\n",
       "\n",
       "    .dataframe thead th {\n",
       "        text-align: right;\n",
       "    }\n",
       "</style>\n",
       "<table border=\"1\" class=\"dataframe\">\n",
       "  <thead>\n",
       "    <tr style=\"text-align: right;\">\n",
       "      <th></th>\n",
       "      <th>EFT_SM</th>\n",
       "      <th>EFT_FT0_m10</th>\n",
       "      <th>EFT_FT0_m5</th>\n",
       "      <th>EFT_FT0_m1</th>\n",
       "      <th>EFT_FT0_1</th>\n",
       "      <th>EFT_FT0_5</th>\n",
       "      <th>EFT_FT0_10</th>\n",
       "    </tr>\n",
       "  </thead>\n",
       "  <tbody>\n",
       "    <tr>\n",
       "      <th>0</th>\n",
       "      <td>9.986830e-01</td>\n",
       "      <td>0.994434</td>\n",
       "      <td>0.996523</td>\n",
       "      <td>0.998245</td>\n",
       "      <td>0.999124</td>\n",
       "      <td>1.000915</td>\n",
       "      <td>1.003220</td>\n",
       "    </tr>\n",
       "    <tr>\n",
       "      <th>1</th>\n",
       "      <td>9.984693e-01</td>\n",
       "      <td>0.993999</td>\n",
       "      <td>0.996164</td>\n",
       "      <td>0.997997</td>\n",
       "      <td>0.998947</td>\n",
       "      <td>1.000915</td>\n",
       "      <td>1.003502</td>\n",
       "    </tr>\n",
       "    <tr>\n",
       "      <th>2</th>\n",
       "      <td>2.229052e-02</td>\n",
       "      <td>3.311568</td>\n",
       "      <td>0.795844</td>\n",
       "      <td>0.037628</td>\n",
       "      <td>0.076640</td>\n",
       "      <td>0.990906</td>\n",
       "      <td>3.701691</td>\n",
       "    </tr>\n",
       "    <tr>\n",
       "      <th>3</th>\n",
       "      <td>1.104481e-06</td>\n",
       "      <td>3.881254</td>\n",
       "      <td>0.970023</td>\n",
       "      <td>0.038709</td>\n",
       "      <td>0.038942</td>\n",
       "      <td>0.971187</td>\n",
       "      <td>3.883582</td>\n",
       "    </tr>\n",
       "    <tr>\n",
       "      <th>4</th>\n",
       "      <td>1.455273e-07</td>\n",
       "      <td>4.002920</td>\n",
       "      <td>1.000668</td>\n",
       "      <td>0.040007</td>\n",
       "      <td>0.040057</td>\n",
       "      <td>1.000915</td>\n",
       "      <td>4.003414</td>\n",
       "    </tr>\n",
       "  </tbody>\n",
       "</table>\n",
       "</div>"
      ],
      "text/plain": [
       "         EFT_SM  EFT_FT0_m10  EFT_FT0_m5  EFT_FT0_m1  EFT_FT0_1  EFT_FT0_5  \\\n",
       "0  9.986830e-01     0.994434    0.996523    0.998245   0.999124   1.000915   \n",
       "1  9.984693e-01     0.993999    0.996164    0.997997   0.998947   1.000915   \n",
       "2  2.229052e-02     3.311568    0.795844    0.037628   0.076640   0.990906   \n",
       "3  1.104481e-06     3.881254    0.970023    0.038709   0.038942   0.971187   \n",
       "4  1.455273e-07     4.002920    1.000668    0.040007   0.040057   1.000915   \n",
       "\n",
       "   EFT_FT0_10  \n",
       "0    1.003220  \n",
       "1    1.003502  \n",
       "2    3.701691  \n",
       "3    3.883582  \n",
       "4    4.003414  "
      ]
     },
     "execution_count": 10,
     "metadata": {},
     "output_type": "execute_result"
    }
   ],
   "source": [
    "df_weights.head()"
   ]
  },
  {
   "cell_type": "markdown",
   "metadata": {},
   "source": [
    "### Validating parabolic shape of weights"
   ]
  },
  {
   "cell_type": "markdown",
   "metadata": {},
   "source": [
    "A quick check if the weights are really parabolic:"
   ]
  },
  {
   "cell_type": "code",
   "execution_count": 11,
   "metadata": {},
   "outputs": [
    {
     "data": {
      "image/png": "[encoded data removed]",
      "text/plain": [
       "<Figure size 432x288 with 1 Axes>"
      ]
     },
     "metadata": {
      "needs_background": "light"
     },
     "output_type": "display_data"
    }
   ],
   "source": [
    "w = events.array(\"LHEWeight_mg_reweighting\")[80]\n",
    "plt.scatter([0, -10, -5, -1, 1, 5, 10], w)\n",
    "plt.ylabel(\"relative weight\")\n",
    "plt.xlabel(\"$F_{T0}$ $[$TeV$^{-4}]$\")\n",
    "plt.show()"
   ]
  },
  {
   "cell_type": "markdown",
   "metadata": {},
   "source": [
    "### Validate enhancement in tail of $s_T$ distribution"
   ]
  },
  {
   "cell_type": "markdown",
   "metadata": {},
   "source": [
    "This example plots a simple $s_T$ distribution without any event selection, just as a samity check."
   ]
  },
  {
   "cell_type": "code",
   "execution_count": 12,
   "metadata": {},
   "outputs": [],
   "source": [
    "def get_st_variable(events):\n",
    "    return events.array(\"Electron_pt\").sum() + \\\n",
    "           events.array(\"Jet_pt\").sum() + \\\n",
    "           events.array(\"MET_pt\")"
   ]
  },
  {
   "cell_type": "code",
   "execution_count": 13,
   "metadata": {},
   "outputs": [],
   "source": [
    "df = pd.DataFrame(dict(sT=get_st_variable(events)))"
   ]
  },
  {
   "cell_type": "code",
   "execution_count": 14,
   "metadata": {},
   "outputs": [],
   "source": [
    "def to_string(x):\n",
    "    return str(x).replace(\"-\", \"m\").replace(\".\", \"p\")\n",
    "\n",
    "def to_number(label):\n",
    "    return int(label.replace(\"m\", \"-\").replace(\"p\", \".\"))"
   ]
  },
  {
   "cell_type": "code",
   "execution_count": 15,
   "metadata": {},
   "outputs": [],
   "source": [
    "def decode_parameters(label, strip_zero_parameters=True):\n",
    "    \"\"\"Decode a label back to a divionary of operator values.\n",
    "    \"\"\"\n",
    "    l = label.split(\"_\")[1:]\n",
    "    if l == ['SM']:\n",
    "        return {}\n",
    "    \n",
    "    l = [a + \"_\" + b for a, b in zip(l[::2], l[1::2])]\n",
    "\n",
    "    parameters = {k.upper() : to_number(v) for k, v in map(lambda x: x.split(\"_\"), l)}\n",
    "    \n",
    "    if strip_zero_parameters:\n",
    "        return {name : x for name, x in parameters.items() if x != 0}\n",
    "    \n",
    "    return parameters"
   ]
  },
  {
   "cell_type": "code",
   "execution_count": 16,
   "metadata": {},
   "outputs": [
    {
     "data": {
      "image/png": "[encoded data removed]",
      "text/plain": [
       "<Figure size 432x288 with 1 Axes>"
      ]
     },
     "metadata": {
      "needs_background": "light"
     },
     "output_type": "display_data"
    }
   ],
   "source": [
    "bins = np.linspace(0, 15000, 100)\n",
    "for weight_label in df_weights.columns:\n",
    "    parameters = decode_parameters(weight_label)\n",
    "    label = f\"FT$_0$/$\\Lambda^4$ = {list(parameters.values())[0]}\" if len(parameters) > 0 else \"SM\"\n",
    "    plt.hist(df[\"sT\"], bins=bins, weights=df_weights[weight_label], histtype=\"step\", label=label)\n",
    "plt.legend(loc=\"lower left\", ncol=2)\n",
    "plt.gca().set_yscale('log')\n",
    "plt.ylabel(\"a.u.\")\n",
    "plt.title(\"Validation of dim. 8 weights in WWW\")\n",
    "plt.xlabel(r\"$S_T$ [GeV] (sum of lepton, jet and MET pt without any selection)\")\n",
    "plt.show()"
   ]
  }
 ],
 "metadata": {
  "kernelspec": {
   "display_name": "Python 3",
   "language": "python",
   "name": "python3"
  },
  "language_info": {
   "codemirror_mode": {
    "name": "ipython",
    "version": 3
   },
   "file_extension": ".py",
   "mimetype": "text/x-python",
   "name": "python",
   "nbconvert_exporter": "python",
   "pygments_lexer": "ipython3",
   "version": "3.7.0"
  }
 },
 "nbformat": 4,
 "nbformat_minor": 2
}
